{
 "cells": [
  {
   "cell_type": "markdown",
   "id": "9fe6cd06",
   "metadata": {},
   "source": [
    "Get initial data from Huggingface\n",
    "\n",
    "https://huggingface.co/fairportrobotics/rock-paper-scissors"
   ]
  },
  {
   "cell_type": "code",
   "execution_count": 1,
   "id": "772c2dd5",
   "metadata": {},
   "outputs": [],
   "source": [
    "# !pip install ultralytics\n",
    "# !pip install huggingface_hub\n",
    "# !pip install opencv-python\n"
   ]
  },
  {
   "cell_type": "code",
   "execution_count": 2,
   "id": "9de54ece",
   "metadata": {},
   "outputs": [
    {
     "name": "stderr",
     "output_type": "stream",
     "text": [
      "/Users/matthiasweiss/miniconda3/envs/rps-mlops/lib/python3.10/site-packages/tqdm/auto.py:21: TqdmWarning: IProgress not found. Please update jupyter and ipywidgets. See https://ipywidgets.readthedocs.io/en/stable/user_install.html\n",
      "  from .autonotebook import tqdm as notebook_tqdm\n"
     ]
    }
   ],
   "source": [
    "from ultralytics import YOLO\n",
    "from huggingface_hub import hf_hub_download\n",
    "from matplotlib import pyplot as plt\n",
    "import cv2\n",
    "import math\n",
    "import time\n",
    "import os"
   ]
  },
  {
   "cell_type": "code",
   "execution_count": 3,
   "id": "0a86dad4",
   "metadata": {},
   "outputs": [],
   "source": [
    "# Load a test image\n",
    "sample_path = hf_hub_download(\n",
    "    local_dir=\".\",\n",
    "    repo_id=\"fairportrobotics/rock-paper-scissors\",\n",
    "    filename=\"sample.jpg\"\n",
    ")"
   ]
  },
  {
   "cell_type": "code",
   "execution_count": 4,
   "id": "1a91d81d",
   "metadata": {},
   "outputs": [
    {
     "name": "stderr",
     "output_type": "stream",
     "text": [
      "2025-04-24 11:55:53.303 python[18243:1763786] WARNING: AVCaptureDeviceTypeExternal is deprecated for Continuity Cameras. Please use AVCaptureDeviceTypeContinuityCamera and add NSCameraUseContinuityCameraDeviceType to your Info.plist.\n"
     ]
    },
    {
     "data": {
      "text/plain": [
       "True"
      ]
     },
     "execution_count": 4,
     "metadata": {},
     "output_type": "execute_result"
    }
   ],
   "source": [
    "# start the webcam\n",
    "cap = cv2.VideoCapture(0)\n",
    "cap.set(3, 640)\n",
    "cap.set(4, 480)"
   ]
  },
  {
   "cell_type": "markdown",
   "id": "525b7cb1",
   "metadata": {},
   "source": [
    "## Test Webcam fotocapture"
   ]
  },
  {
   "cell_type": "code",
   "execution_count": 5,
   "id": "3636512d",
   "metadata": {},
   "outputs": [
    {
     "name": "stdout",
     "output_type": "stream",
     "text": [
      "📷 Starting image capture from OBS Virtual Camera...\n",
      "✅ Saved: /Users/matthiasweiss/Desktop/ZHAW/MSE/2_MachLeData/MLOps_Labs-main/Project_Work_PraiseMLOps/Test_images/20250424_115558.jpg\n",
      "✅ Saved: /Users/matthiasweiss/Desktop/ZHAW/MSE/2_MachLeData/MLOps_Labs-main/Project_Work_PraiseMLOps/Test_images/20250424_115600.jpg\n",
      "✅ Saved: /Users/matthiasweiss/Desktop/ZHAW/MSE/2_MachLeData/MLOps_Labs-main/Project_Work_PraiseMLOps/Test_images/20250424_115603.jpg\n",
      "✅ Saved: /Users/matthiasweiss/Desktop/ZHAW/MSE/2_MachLeData/MLOps_Labs-main/Project_Work_PraiseMLOps/Test_images/20250424_115605.jpg\n",
      "✅ Saved: /Users/matthiasweiss/Desktop/ZHAW/MSE/2_MachLeData/MLOps_Labs-main/Project_Work_PraiseMLOps/Test_images/20250424_115607.jpg\n",
      "✅ Done capturing from OBS.\n"
     ]
    }
   ],
   "source": [
    "import cv2\n",
    "import os\n",
    "import time\n",
    "from datetime import datetime\n",
    "\n",
    "# Create Test_images folder in current directory\n",
    "output_dir = os.path.join(os.getcwd(), \"Test_images\")\n",
    "os.makedirs(output_dir, exist_ok=True)\n",
    "\n",
    "# Open OBS Virtual Camera (usually index 1 or 2)\n",
    "cap = cv2.VideoCapture(1, cv2.CAP_ANY)\n",
    "if not cap.isOpened():\n",
    "    print(\"❌ Error: Could not access OBS virtual camera.\")\n",
    "    exit()\n",
    "\n",
    "print(\"📷 Starting image capture from OBS Virtual Camera...\")\n",
    "time.sleep(2)  # Allow camera to stabilize\n",
    "\n",
    "# Capture 5 images every 2 seconds\n",
    "num_images = 5\n",
    "for i in range(num_images):\n",
    "    # Flush camera buffer\n",
    "    for _ in range(5):\n",
    "        cap.read()\n",
    "        time.sleep(0.05)\n",
    "\n",
    "    # Capture the real frame\n",
    "    ret, frame = cap.read()\n",
    "\n",
    "    # Retry once if it fails\n",
    "    if not ret:\n",
    "        print(f\"⚠️ First read failed. Retrying...\")\n",
    "        time.sleep(0.1)\n",
    "        ret, frame = cap.read()\n",
    "\n",
    "    if not ret:\n",
    "        print(f\"❌ Failed to capture frame {i+1} after retry.\")\n",
    "        continue\n",
    "\n",
    "    # Save with datetime-based filename\n",
    "    timestamp = datetime.now().strftime(\"%Y%m%d_%H%M%S\")\n",
    "    filename = os.path.join(output_dir, f\"{timestamp}.jpg\")\n",
    "    cv2.imwrite(filename, frame)\n",
    "    print(f\"✅ Saved: {filename}\")\n",
    "    time.sleep(2)\n",
    "\n",
    "# Cleanup\n",
    "cap.release()\n",
    "cv2.destroyAllWindows()\n",
    "print(\"✅ Done capturing from OBS.\")\n",
    "\n"
   ]
  },
  {
   "cell_type": "code",
   "execution_count": 6,
   "id": "7f8b461a",
   "metadata": {},
   "outputs": [],
   "source": [
    "cap.release()              # Releases the webcam hardware\n",
    "cv2.destroyAllWindows()    # Closes any OpenCV windows\n"
   ]
  }
 ],
 "metadata": {
  "kernelspec": {
   "display_name": "rps-mlops",
   "language": "python",
   "name": "python3"
  },
  "language_info": {
   "codemirror_mode": {
    "name": "ipython",
    "version": 3
   },
   "file_extension": ".py",
   "mimetype": "text/x-python",
   "name": "python",
   "nbconvert_exporter": "python",
   "pygments_lexer": "ipython3",
   "version": "3.10.16"
  }
 },
 "nbformat": 4,
 "nbformat_minor": 5
}
